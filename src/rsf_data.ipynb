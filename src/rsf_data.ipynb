{
 "cells": [
  {
   "cell_type": "code",
   "execution_count": null,
   "id": "d8cf206f",
   "metadata": {},
   "outputs": [],
   "source": [
    "import psycopg2\n",
    "from sqlalchemy import create_engine\n",
    "import numpy as np\n",
    "import pandas as pd\n",
    "from datetime import datetime\n",
    "import config"
   ]
  },
  {
   "cell_type": "code",
   "execution_count": null,
   "id": "d278d10e",
   "metadata": {},
   "outputs": [
    {
     "name": "stdout",
     "output_type": "stream",
     "text": [
      "successfully connected\n",
      "success\n"
     ]
    }
   ],
   "source": [
    "def connect():\n",
    "    conn = psycopg2.connect(\n",
    "        user=config.db_user, password=config.db_pw, host=config.db_host, port=config.db_port\n",
    "    )\n",
    "    print('successfully connected')\n",
    "    return conn\n",
    "\n",
    "def sql_query(cmd, params = None):\n",
    "    conn = connect()\n",
    "    cursor = conn.cursor()\n",
    "\n",
    "    cursor.execute(cmd, params)\n",
    "\n",
    "    conn.commit()\n",
    "    cursor.close()\n",
    "    conn.close()\n",
    "    print('success')\n",
    "\n",
    "# sql_query(\"\"\"INSERT INTO rsf_data (capacity, datetime) VALUES (%s,%s)\"\"\", (50, datetime.now()))\n",
    "sql_query(\"\"\"DELETE FROM rsf_data\"\"\")\n"
   ]
  },
  {
   "cell_type": "code",
   "execution_count": null,
   "id": "bafc6d65",
   "metadata": {},
   "outputs": [],
   "source": [
    "# turn database into pandas dataframe\n",
    "dbstring = (config.sql_url)\n",
    "sqlconn = create_engine(dbstring).connect()\n",
    "data = pd.read_sql_table('rsf_data', sqlconn)\n",
    "df = data"
   ]
  },
  {
   "cell_type": "code",
   "execution_count": null,
   "id": "225da4c3",
   "metadata": {},
   "outputs": [
    {
     "data": {
      "text/html": [
       "<div>\n",
       "<style scoped>\n",
       "    .dataframe tbody tr th:only-of-type {\n",
       "        vertical-align: middle;\n",
       "    }\n",
       "\n",
       "    .dataframe tbody tr th {\n",
       "        vertical-align: top;\n",
       "    }\n",
       "\n",
       "    .dataframe thead th {\n",
       "        text-align: right;\n",
       "    }\n",
       "</style>\n",
       "<table border=\"1\" class=\"dataframe\">\n",
       "  <thead>\n",
       "    <tr style=\"text-align: right;\">\n",
       "      <th></th>\n",
       "      <th>capacity</th>\n",
       "      <th>datetime</th>\n",
       "    </tr>\n",
       "  </thead>\n",
       "  <tbody>\n",
       "  </tbody>\n",
       "</table>\n",
       "</div>"
      ],
      "text/plain": [
       "Empty DataFrame\n",
       "Columns: [capacity, datetime]\n",
       "Index: []"
      ]
     },
     "execution_count": 7,
     "metadata": {},
     "output_type": "execute_result"
    }
   ],
   "source": [
    "df"
   ]
  }
 ],
 "metadata": {
  "kernelspec": {
   "display_name": "Python 3 (ipykernel)",
   "language": "python",
   "name": "python3"
  },
  "language_info": {
   "codemirror_mode": {
    "name": "ipython",
    "version": 3
   },
   "file_extension": ".py",
   "mimetype": "text/x-python",
   "name": "python",
   "nbconvert_exporter": "python",
   "pygments_lexer": "ipython3",
   "version": "3.8.5"
  }
 },
 "nbformat": 4,
 "nbformat_minor": 5
}
